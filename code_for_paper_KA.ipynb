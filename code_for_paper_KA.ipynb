{
  "nbformat": 4,
  "nbformat_minor": 0,
  "metadata": {
    "colab": {
      "provenance": []
    },
    "kernelspec": {
      "name": "python3",
      "display_name": "Python 3"
    },
    "language_info": {
      "name": "python"
    }
  },
  "cells": [
    {
      "cell_type": "code",
      "source": [
        "def activity_selection(activities):\n",
        "    # Step 1: Sort activities based on end time\n",
        "    sorted_activities = sorted(activities, key=lambda x: x[2])\n",
        "\n",
        "    # Step 2: Initialize the selected activities list\n",
        "    selected_activities = []\n",
        "\n",
        "    # Step 3: Select the first activity\n",
        "    selected_activities.append(sorted_activities[0])\n",
        "\n",
        "    # Step 4: Iterate through the rest of the activities\n",
        "    last_end_time = sorted_activities[0][2]\n",
        "\n",
        "    for activity in sorted_activities[1:]:\n",
        "        if activity[1] >= last_end_time:  # Compare start time with last end time\n",
        "            selected_activities.append(activity)\n",
        "            last_end_time = activity[2]\n",
        "\n",
        "    return selected_activities\n",
        "\n",
        "# Problem Description\n",
        "activities = [\n",
        "    (\"A\", 9*60, 9*60+30),    # A: (09:00-09:30)\n",
        "    (\"B\", 9*60+5, 9*60+25),  # B: (09:05-09:25)\n",
        "    (\"C\", 9*60+30, 9*60+50), # C: (09:30-09:50)\n",
        "    (\"D\", 9*60+45, 10*60),   # D: (09:45-10:00)\n",
        "    (\"E\", 10*60, 10*60+20),  # E: (10:00-10:20)\n",
        "    (\"F\", 10*60+15, 10*60+35), # F: (10:15-10:35)\n",
        "    (\"G\", 10*60+30, 10*60+50), # G: (10:30-10:50)\n",
        "    (\"H\", 10*60+40, 11*60),    # H: (10:40-11:00)\n",
        "    (\"I\", 11*60, 11*60+20),  # I: (11:00-11:20)\n",
        "    (\"J\", 11*60+10, 11*60+30) # J: (11:10-11:30)\n",
        "]\n",
        "\n",
        "selected_activities = activity_selection(activities)\n",
        "print(\"Selected Activities:\")\n",
        "for activity in selected_activities:\n",
        "    # Use indices 1 and 2 for start and end times respectively\n",
        "    print(f\"{activity[0]}: ({activity[1] // 60:02d}:{activity[1]\n",
        "           % 60:02d} - {activity[2] // 60:02d}:{activity[2] % 60:02d})\")"
      ],
      "metadata": {
        "colab": {
          "base_uri": "https://localhost:8080/"
        },
        "id": "yrAI_YtqMorQ",
        "outputId": "201af34a-2627-4086-b058-268b23611e20"
      },
      "execution_count": 9,
      "outputs": [
        {
          "output_type": "stream",
          "name": "stdout",
          "text": [
            "Selected Activities:\n",
            "B: (09:05 - 09:25)\n",
            "C: (09:30 - 09:50)\n",
            "E: (10:00 - 10:20)\n",
            "G: (10:30 - 10:50)\n",
            "I: (11:00 - 11:20)\n"
          ]
        }
      ]
    }
  ]
}